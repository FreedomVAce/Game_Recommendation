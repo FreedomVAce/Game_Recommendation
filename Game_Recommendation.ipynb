{
 "cells": [
  {
   "cell_type": "code",
   "execution_count": 1,
   "metadata": {},
   "outputs": [],
   "source": [
    "import numpy as np\n",
    "import pandas as pd \n",
    "import sklearn as sk\n",
    "import matplotlib.pyplot as plt\n",
    "import seaborn as sns\n",
    "\n",
    "import warnings\n",
    "warnings.filterwarnings(\"ignore\")\n",
    "#pd.options.display.max_rows = None\n",
    "#pd.options.display.max_columns = None"
   ]
  },
  {
   "cell_type": "code",
   "execution_count": 2,
   "metadata": {},
   "outputs": [],
   "source": [
    "game = pd.read_csv('game_info.csv') "
   ]
  },
  {
   "cell_type": "code",
   "execution_count": 3,
   "metadata": {},
   "outputs": [
    {
     "data": {
      "text/html": [
       "<div>\n",
       "<style scoped>\n",
       "    .dataframe tbody tr th:only-of-type {\n",
       "        vertical-align: middle;\n",
       "    }\n",
       "\n",
       "    .dataframe tbody tr th {\n",
       "        vertical-align: top;\n",
       "    }\n",
       "\n",
       "    .dataframe thead th {\n",
       "        text-align: right;\n",
       "    }\n",
       "</style>\n",
       "<table border=\"1\" class=\"dataframe\">\n",
       "  <thead>\n",
       "    <tr style=\"text-align: right;\">\n",
       "      <th></th>\n",
       "      <th>id</th>\n",
       "      <th>slug</th>\n",
       "      <th>name</th>\n",
       "      <th>metacritic</th>\n",
       "      <th>released</th>\n",
       "      <th>tba</th>\n",
       "      <th>updated</th>\n",
       "      <th>website</th>\n",
       "      <th>rating</th>\n",
       "      <th>rating_top</th>\n",
       "      <th>...</th>\n",
       "      <th>developers</th>\n",
       "      <th>genres</th>\n",
       "      <th>publishers</th>\n",
       "      <th>esrb_rating</th>\n",
       "      <th>added_status_yet</th>\n",
       "      <th>added_status_owned</th>\n",
       "      <th>added_status_beaten</th>\n",
       "      <th>added_status_toplay</th>\n",
       "      <th>added_status_dropped</th>\n",
       "      <th>added_status_playing</th>\n",
       "    </tr>\n",
       "  </thead>\n",
       "  <tbody>\n",
       "    <tr>\n",
       "      <td>0</td>\n",
       "      <td>1</td>\n",
       "      <td>dgeneration-hd</td>\n",
       "      <td>D/Generation HD</td>\n",
       "      <td>NaN</td>\n",
       "      <td>2015-10-23</td>\n",
       "      <td>False</td>\n",
       "      <td>2019-09-17T11:58:57</td>\n",
       "      <td>http://dgeneration.net</td>\n",
       "      <td>0.0</td>\n",
       "      <td>0</td>\n",
       "      <td>...</td>\n",
       "      <td>West Coast Software||West Coast Software Limited</td>\n",
       "      <td>Adventure||Puzzle</td>\n",
       "      <td>West Coast Software||West Coast Software Limited</td>\n",
       "      <td>Everyone 10+</td>\n",
       "      <td>3</td>\n",
       "      <td>70</td>\n",
       "      <td>0</td>\n",
       "      <td>2</td>\n",
       "      <td>0</td>\n",
       "      <td>0</td>\n",
       "    </tr>\n",
       "  </tbody>\n",
       "</table>\n",
       "<p>1 rows × 27 columns</p>\n",
       "</div>"
      ],
      "text/plain": [
       "   id            slug             name  metacritic    released    tba  \\\n",
       "0   1  dgeneration-hd  D/Generation HD         NaN  2015-10-23  False   \n",
       "\n",
       "               updated                 website  rating  rating_top  ...  \\\n",
       "0  2019-09-17T11:58:57  http://dgeneration.net     0.0           0  ...   \n",
       "\n",
       "                                         developers             genres  \\\n",
       "0  West Coast Software||West Coast Software Limited  Adventure||Puzzle   \n",
       "\n",
       "                                         publishers   esrb_rating  \\\n",
       "0  West Coast Software||West Coast Software Limited  Everyone 10+   \n",
       "\n",
       "   added_status_yet  added_status_owned added_status_beaten  \\\n",
       "0                 3                  70                   0   \n",
       "\n",
       "  added_status_toplay added_status_dropped added_status_playing  \n",
       "0                   2                    0                    0  \n",
       "\n",
       "[1 rows x 27 columns]"
      ]
     },
     "metadata": {},
     "output_type": "display_data"
    },
    {
     "name": "stdout",
     "output_type": "stream",
     "text": [
      "(345667, 27)\n"
     ]
    }
   ],
   "source": [
    "display(game.head(1))\n",
    "print (game.shape)"
   ]
  },
  {
   "cell_type": "code",
   "execution_count": 4,
   "metadata": {},
   "outputs": [
    {
     "data": {
      "text/plain": [
       "id                           0\n",
       "slug                         2\n",
       "name                         2\n",
       "metacritic              342428\n",
       "released                 27201\n",
       "tba                          0\n",
       "updated                      0\n",
       "website                 284812\n",
       "rating                       0\n",
       "rating_top                   0\n",
       "playtime                     0\n",
       "achievements_count           0\n",
       "ratings_count                0\n",
       "suggestions_count            0\n",
       "game_series_count            0\n",
       "reviews_count                0\n",
       "platforms                 3391\n",
       "developers                6236\n",
       "genres                   67190\n",
       "publishers              214606\n",
       "esrb_rating             290551\n",
       "added_status_yet             0\n",
       "added_status_owned           0\n",
       "added_status_beaten          0\n",
       "added_status_toplay          0\n",
       "added_status_dropped         0\n",
       "added_status_playing         0\n",
       "dtype: int64"
      ]
     },
     "execution_count": 4,
     "metadata": {},
     "output_type": "execute_result"
    }
   ],
   "source": [
    "game.isnull().sum()"
   ]
  },
  {
   "cell_type": "markdown",
   "metadata": {},
   "source": [
    "# Cleaning"
   ]
  },
  {
   "cell_type": "code",
   "execution_count": 6,
   "metadata": {},
   "outputs": [],
   "source": [
    "# Fill missing value \n",
    "#for i in range (0,game.shape[0]):\n",
    "#    if pd.isnull(game['developers'][i]):\n",
    "#        game['developers'][i] = game['publishers'][i]"
   ]
  },
  {
   "cell_type": "code",
   "execution_count": 7,
   "metadata": {},
   "outputs": [],
   "source": [
    "# Dropping missing datas more than 80%\n",
    "game.drop(['id','metacritic','released','esrb_rating',\n",
    "           'updated','developers','publishers','website'],axis = 1,inplace = True)\n",
    "# Dropping not meaningful data \n",
    "game.drop(['slug'],axis = 1,inplace = True)\n",
    "# Dropping the game without name\n",
    "game = game[~game['name'].isnull()].reset_index(drop=True)"
   ]
  },
  {
   "cell_type": "code",
   "execution_count": 8,
   "metadata": {},
   "outputs": [],
   "source": [
    "# Replace the missing value with unknown instead of Null value \n",
    "game['genres'] = game['genres'].fillna('unknown_genre')\n",
    "game['platforms'] = game['platforms'].fillna('unknown_plat')\n",
    "#game['developers'] = game['developers'].fillna('unknown')"
   ]
  },
  {
   "cell_type": "code",
   "execution_count": 9,
   "metadata": {},
   "outputs": [
    {
     "name": "stdout",
     "output_type": "stream",
     "text": [
      "clean\n"
     ]
    }
   ],
   "source": [
    "for i in range (0,len(game.isnull().sum())):\n",
    "    if game.isnull().sum()[i] == 0:\n",
    "        continue\n",
    "    else:\n",
    "        print('unclean')\n",
    "print('clean')"
   ]
  },
  {
   "cell_type": "code",
   "execution_count": 10,
   "metadata": {},
   "outputs": [],
   "source": [
    "#game['updated'] = pd.to_datetime(game['updated'])\n",
    "genres = game['genres'].str.get_dummies('|')\n",
    "platforms = game['platforms'].str.get_dummies('|')\n",
    "game['tba'] = game['tba'].map({False: '0',True:'1'})"
   ]
  },
  {
   "cell_type": "code",
   "execution_count": 11,
   "metadata": {},
   "outputs": [],
   "source": [
    "game = game.join(genres)\n",
    "game = game.join(platforms)\n",
    "game.drop(['genres','platforms'],axis = 1,inplace = True)"
   ]
  },
  {
   "cell_type": "code",
   "execution_count": 12,
   "metadata": {},
   "outputs": [
    {
     "data": {
      "text/html": [
       "<div>\n",
       "<style scoped>\n",
       "    .dataframe tbody tr th:only-of-type {\n",
       "        vertical-align: middle;\n",
       "    }\n",
       "\n",
       "    .dataframe tbody tr th {\n",
       "        vertical-align: top;\n",
       "    }\n",
       "\n",
       "    .dataframe thead th {\n",
       "        text-align: right;\n",
       "    }\n",
       "</style>\n",
       "<table border=\"1\" class=\"dataframe\">\n",
       "  <thead>\n",
       "    <tr style=\"text-align: right;\">\n",
       "      <th></th>\n",
       "      <th>name</th>\n",
       "      <th>tba</th>\n",
       "      <th>rating</th>\n",
       "      <th>rating_top</th>\n",
       "      <th>playtime</th>\n",
       "      <th>achievements_count</th>\n",
       "      <th>ratings_count</th>\n",
       "      <th>suggestions_count</th>\n",
       "      <th>game_series_count</th>\n",
       "      <th>reviews_count</th>\n",
       "      <th>...</th>\n",
       "      <th>Web</th>\n",
       "      <th>Wii</th>\n",
       "      <th>Wii U</th>\n",
       "      <th>Xbox</th>\n",
       "      <th>Xbox 360</th>\n",
       "      <th>Xbox One</th>\n",
       "      <th>iOS</th>\n",
       "      <th>mac</th>\n",
       "      <th>macOS</th>\n",
       "      <th>unknown_plat</th>\n",
       "    </tr>\n",
       "  </thead>\n",
       "  <tbody>\n",
       "    <tr>\n",
       "      <td>0</td>\n",
       "      <td>D/Generation HD</td>\n",
       "      <td>0</td>\n",
       "      <td>0.0</td>\n",
       "      <td>0</td>\n",
       "      <td>1</td>\n",
       "      <td>80</td>\n",
       "      <td>0</td>\n",
       "      <td>283</td>\n",
       "      <td>0</td>\n",
       "      <td>0</td>\n",
       "      <td>...</td>\n",
       "      <td>0</td>\n",
       "      <td>0</td>\n",
       "      <td>0</td>\n",
       "      <td>0</td>\n",
       "      <td>0</td>\n",
       "      <td>1</td>\n",
       "      <td>0</td>\n",
       "      <td>0</td>\n",
       "      <td>1</td>\n",
       "      <td>0</td>\n",
       "    </tr>\n",
       "    <tr>\n",
       "      <td>1</td>\n",
       "      <td>G Prime Into The Rain</td>\n",
       "      <td>0</td>\n",
       "      <td>0.0</td>\n",
       "      <td>0</td>\n",
       "      <td>0</td>\n",
       "      <td>26</td>\n",
       "      <td>0</td>\n",
       "      <td>375</td>\n",
       "      <td>0</td>\n",
       "      <td>0</td>\n",
       "      <td>...</td>\n",
       "      <td>0</td>\n",
       "      <td>0</td>\n",
       "      <td>0</td>\n",
       "      <td>0</td>\n",
       "      <td>0</td>\n",
       "      <td>1</td>\n",
       "      <td>0</td>\n",
       "      <td>0</td>\n",
       "      <td>1</td>\n",
       "      <td>0</td>\n",
       "    </tr>\n",
       "    <tr>\n",
       "      <td>2</td>\n",
       "      <td>Land Sliders</td>\n",
       "      <td>0</td>\n",
       "      <td>0.0</td>\n",
       "      <td>0</td>\n",
       "      <td>0</td>\n",
       "      <td>0</td>\n",
       "      <td>1</td>\n",
       "      <td>71</td>\n",
       "      <td>0</td>\n",
       "      <td>1</td>\n",
       "      <td>...</td>\n",
       "      <td>0</td>\n",
       "      <td>0</td>\n",
       "      <td>0</td>\n",
       "      <td>0</td>\n",
       "      <td>0</td>\n",
       "      <td>0</td>\n",
       "      <td>1</td>\n",
       "      <td>0</td>\n",
       "      <td>0</td>\n",
       "      <td>0</td>\n",
       "    </tr>\n",
       "    <tr>\n",
       "      <td>3</td>\n",
       "      <td>Pixel Gear</td>\n",
       "      <td>0</td>\n",
       "      <td>0.0</td>\n",
       "      <td>0</td>\n",
       "      <td>0</td>\n",
       "      <td>0</td>\n",
       "      <td>0</td>\n",
       "      <td>443</td>\n",
       "      <td>0</td>\n",
       "      <td>0</td>\n",
       "      <td>...</td>\n",
       "      <td>0</td>\n",
       "      <td>0</td>\n",
       "      <td>0</td>\n",
       "      <td>0</td>\n",
       "      <td>0</td>\n",
       "      <td>0</td>\n",
       "      <td>0</td>\n",
       "      <td>0</td>\n",
       "      <td>0</td>\n",
       "      <td>0</td>\n",
       "    </tr>\n",
       "    <tr>\n",
       "      <td>4</td>\n",
       "      <td>Gods and Idols</td>\n",
       "      <td>0</td>\n",
       "      <td>0.0</td>\n",
       "      <td>0</td>\n",
       "      <td>1</td>\n",
       "      <td>0</td>\n",
       "      <td>4</td>\n",
       "      <td>268</td>\n",
       "      <td>0</td>\n",
       "      <td>4</td>\n",
       "      <td>...</td>\n",
       "      <td>0</td>\n",
       "      <td>0</td>\n",
       "      <td>0</td>\n",
       "      <td>0</td>\n",
       "      <td>0</td>\n",
       "      <td>0</td>\n",
       "      <td>0</td>\n",
       "      <td>0</td>\n",
       "      <td>0</td>\n",
       "      <td>0</td>\n",
       "    </tr>\n",
       "    <tr>\n",
       "      <td>5</td>\n",
       "      <td>Plague venue</td>\n",
       "      <td>0</td>\n",
       "      <td>0.0</td>\n",
       "      <td>0</td>\n",
       "      <td>0</td>\n",
       "      <td>0</td>\n",
       "      <td>0</td>\n",
       "      <td>45</td>\n",
       "      <td>0</td>\n",
       "      <td>0</td>\n",
       "      <td>...</td>\n",
       "      <td>1</td>\n",
       "      <td>0</td>\n",
       "      <td>0</td>\n",
       "      <td>0</td>\n",
       "      <td>0</td>\n",
       "      <td>0</td>\n",
       "      <td>0</td>\n",
       "      <td>0</td>\n",
       "      <td>0</td>\n",
       "      <td>0</td>\n",
       "    </tr>\n",
       "    <tr>\n",
       "      <td>6</td>\n",
       "      <td>The Moon Sliver (itch)</td>\n",
       "      <td>0</td>\n",
       "      <td>0.0</td>\n",
       "      <td>0</td>\n",
       "      <td>0</td>\n",
       "      <td>0</td>\n",
       "      <td>0</td>\n",
       "      <td>121</td>\n",
       "      <td>0</td>\n",
       "      <td>0</td>\n",
       "      <td>...</td>\n",
       "      <td>0</td>\n",
       "      <td>0</td>\n",
       "      <td>0</td>\n",
       "      <td>0</td>\n",
       "      <td>0</td>\n",
       "      <td>0</td>\n",
       "      <td>0</td>\n",
       "      <td>0</td>\n",
       "      <td>1</td>\n",
       "      <td>0</td>\n",
       "    </tr>\n",
       "    <tr>\n",
       "      <td>7</td>\n",
       "      <td>Red Entity</td>\n",
       "      <td>0</td>\n",
       "      <td>0.0</td>\n",
       "      <td>0</td>\n",
       "      <td>0</td>\n",
       "      <td>0</td>\n",
       "      <td>0</td>\n",
       "      <td>33</td>\n",
       "      <td>0</td>\n",
       "      <td>0</td>\n",
       "      <td>...</td>\n",
       "      <td>0</td>\n",
       "      <td>0</td>\n",
       "      <td>0</td>\n",
       "      <td>0</td>\n",
       "      <td>0</td>\n",
       "      <td>0</td>\n",
       "      <td>0</td>\n",
       "      <td>0</td>\n",
       "      <td>1</td>\n",
       "      <td>0</td>\n",
       "    </tr>\n",
       "    <tr>\n",
       "      <td>8</td>\n",
       "      <td>Rollman (itch)</td>\n",
       "      <td>0</td>\n",
       "      <td>0.0</td>\n",
       "      <td>0</td>\n",
       "      <td>0</td>\n",
       "      <td>0</td>\n",
       "      <td>0</td>\n",
       "      <td>131</td>\n",
       "      <td>0</td>\n",
       "      <td>0</td>\n",
       "      <td>...</td>\n",
       "      <td>0</td>\n",
       "      <td>0</td>\n",
       "      <td>0</td>\n",
       "      <td>0</td>\n",
       "      <td>0</td>\n",
       "      <td>0</td>\n",
       "      <td>0</td>\n",
       "      <td>0</td>\n",
       "      <td>0</td>\n",
       "      <td>0</td>\n",
       "    </tr>\n",
       "    <tr>\n",
       "      <td>9</td>\n",
       "      <td>HippiesVsCops</td>\n",
       "      <td>0</td>\n",
       "      <td>0.0</td>\n",
       "      <td>0</td>\n",
       "      <td>0</td>\n",
       "      <td>0</td>\n",
       "      <td>0</td>\n",
       "      <td>32</td>\n",
       "      <td>0</td>\n",
       "      <td>0</td>\n",
       "      <td>...</td>\n",
       "      <td>0</td>\n",
       "      <td>0</td>\n",
       "      <td>0</td>\n",
       "      <td>0</td>\n",
       "      <td>0</td>\n",
       "      <td>0</td>\n",
       "      <td>0</td>\n",
       "      <td>0</td>\n",
       "      <td>0</td>\n",
       "      <td>0</td>\n",
       "    </tr>\n",
       "  </tbody>\n",
       "</table>\n",
       "<p>10 rows × 87 columns</p>\n",
       "</div>"
      ],
      "text/plain": [
       "                     name tba  rating  rating_top  playtime  \\\n",
       "0         D/Generation HD   0     0.0           0         1   \n",
       "1   G Prime Into The Rain   0     0.0           0         0   \n",
       "2            Land Sliders   0     0.0           0         0   \n",
       "3              Pixel Gear   0     0.0           0         0   \n",
       "4          Gods and Idols   0     0.0           0         1   \n",
       "5            Plague venue   0     0.0           0         0   \n",
       "6  The Moon Sliver (itch)   0     0.0           0         0   \n",
       "7              Red Entity   0     0.0           0         0   \n",
       "8          Rollman (itch)   0     0.0           0         0   \n",
       "9           HippiesVsCops   0     0.0           0         0   \n",
       "\n",
       "   achievements_count  ratings_count  suggestions_count  game_series_count  \\\n",
       "0                  80              0                283                  0   \n",
       "1                  26              0                375                  0   \n",
       "2                   0              1                 71                  0   \n",
       "3                   0              0                443                  0   \n",
       "4                   0              4                268                  0   \n",
       "5                   0              0                 45                  0   \n",
       "6                   0              0                121                  0   \n",
       "7                   0              0                 33                  0   \n",
       "8                   0              0                131                  0   \n",
       "9                   0              0                 32                  0   \n",
       "\n",
       "   reviews_count  ...  Web  Wii  Wii U  Xbox  Xbox 360  Xbox One  iOS  mac  \\\n",
       "0              0  ...    0    0      0     0         0         1    0    0   \n",
       "1              0  ...    0    0      0     0         0         1    0    0   \n",
       "2              1  ...    0    0      0     0         0         0    1    0   \n",
       "3              0  ...    0    0      0     0         0         0    0    0   \n",
       "4              4  ...    0    0      0     0         0         0    0    0   \n",
       "5              0  ...    1    0      0     0         0         0    0    0   \n",
       "6              0  ...    0    0      0     0         0         0    0    0   \n",
       "7              0  ...    0    0      0     0         0         0    0    0   \n",
       "8              0  ...    0    0      0     0         0         0    0    0   \n",
       "9              0  ...    0    0      0     0         0         0    0    0   \n",
       "\n",
       "   macOS  unknown_plat  \n",
       "0      1             0  \n",
       "1      1             0  \n",
       "2      0             0  \n",
       "3      0             0  \n",
       "4      0             0  \n",
       "5      0             0  \n",
       "6      1             0  \n",
       "7      1             0  \n",
       "8      0             0  \n",
       "9      0             0  \n",
       "\n",
       "[10 rows x 87 columns]"
      ]
     },
     "execution_count": 12,
     "metadata": {},
     "output_type": "execute_result"
    }
   ],
   "source": [
    "game.head(10)"
   ]
  },
  {
   "cell_type": "code",
   "execution_count": 13,
   "metadata": {},
   "outputs": [],
   "source": [
    "#game['rating'].unique()"
   ]
  },
  {
   "cell_type": "markdown",
   "metadata": {},
   "source": [
    "# EDA"
   ]
  },
  {
   "cell_type": "code",
   "execution_count": 15,
   "metadata": {},
   "outputs": [],
   "source": [
    "genres_list = list(genres.columns.values.tolist())\n",
    "genres_counts = []\n",
    "for i in genres_list:\n",
    "    count = game[i].value_counts()[1]\n",
    "    genres_counts.append(count)"
   ]
  },
  {
   "cell_type": "code",
   "execution_count": 16,
   "metadata": {},
   "outputs": [
    {
     "data": {
      "image/png": "[encoded data removed]",
      "text/plain": [
       "<Figure size 1080x576 with 1 Axes>"
      ]
     },
     "metadata": {
      "needs_background": "light"
     },
     "output_type": "display_data"
    }
   ],
   "source": [
    "plot1 = pd.DataFrame({'Genre' : genres_list , 'Counts' : genres_counts})\n",
    "plot1 = plot1.sort_values('Counts',ascending=False)\n",
    "plt.figure(figsize = (15,8))\n",
    "sns.barplot(x=plot1['Genre'], y=plot1['Counts']).set_title(\"The Popluar Genre\")\n",
    "plt.xticks(rotation=30, ha='right')\n",
    "plt.tight_layout()\n",
    "plt.grid()\n",
    "plt.show()"
   ]
  },
  {
   "cell_type": "code",
   "execution_count": 17,
   "metadata": {},
   "outputs": [],
   "source": [
    "platforms_list = list(platforms.columns.values.tolist())\n",
    "platforms_counts = []\n",
    "for i in platforms_list:\n",
    "    count = game[i].value_counts()[1]\n",
    "    platforms_counts.append(count)"
   ]
  },
  {
   "cell_type": "code",
   "execution_count": 18,
   "metadata": {},
   "outputs": [
    {
     "data": {
      "image/png": "[encoded data removed]",
      "text/plain": [
       "<Figure size 1080x576 with 1 Axes>"
      ]
     },
     "metadata": {
      "needs_background": "light"
     },
     "output_type": "display_data"
    }
   ],
   "source": [
    "plot2 = pd.DataFrame({'Platforms' : platforms_list , 'Counts' : platforms_counts})\n",
    "plot2 = plot2.sort_values('Counts',ascending=False)\n",
    "plt.figure(figsize = (15,8))\n",
    "sns.barplot(x=plot2['Platforms'][0:10], y=plot2['Counts'][0:10]).set_title(\"The Top 10 Popluar Platforms\")\n",
    "plt.xticks(rotation=30, ha='right')\n",
    "plt.tight_layout()\n",
    "plt.grid()\n",
    "plt.show()"
   ]
  },
  {
   "cell_type": "code",
   "execution_count": 47,
   "metadata": {},
   "outputs": [
    {
     "name": "stdout",
     "output_type": "stream",
     "text": [
      "     rating\n",
      "0.0  336912\n"
     ]
    },
    {
     "data": {
      "image/png": "[encoded data removed]",
      "text/plain": [
       "<Figure size 1080x576 with 1 Axes>"
      ]
     },
     "metadata": {
      "needs_background": "light"
     },
     "output_type": "display_data"
    }
   ],
   "source": [
    "print(pd.DataFrame(game['rating'].loc[game['rating'] == 0.0].value_counts()))\n",
    "plt.figure(figsize = (15,8))\n",
    "plt.bar(game['rating'].loc[game['rating'] != 0.0].value_counts().index, \n",
    "         game['rating'].loc[game['rating'] != 0.0].value_counts().values)\n",
    "plt.title('The Number of Rating')\n",
    "plt.xlabel('Rating')\n",
    "plt.ylabel('Counts')\n",
    "plt.tight_layout()\n",
    "plt.grid()\n",
    "plt.show()"
   ]
  },
  {
   "cell_type": "code",
   "execution_count": null,
   "metadata": {},
   "outputs": [],
   "source": []
  },
  {
   "cell_type": "code",
   "execution_count": null,
   "metadata": {},
   "outputs": [],
   "source": []
  },
  {
   "cell_type": "code",
   "execution_count": null,
   "metadata": {},
   "outputs": [],
   "source": []
  }
 ],
 "metadata": {
  "kernelspec": {
   "display_name": "Python 3",
   "language": "python",
   "name": "python3"
  },
  "language_info": {
   "codemirror_mode": {
    "name": "ipython",
    "version": 3
   },
   "file_extension": ".py",
   "mimetype": "text/x-python",
   "name": "python",
   "nbconvert_exporter": "python",
   "pygments_lexer": "ipython3",
   "version": "3.7.4"
  }
 },
 "nbformat": 4,
 "nbformat_minor": 2
}
